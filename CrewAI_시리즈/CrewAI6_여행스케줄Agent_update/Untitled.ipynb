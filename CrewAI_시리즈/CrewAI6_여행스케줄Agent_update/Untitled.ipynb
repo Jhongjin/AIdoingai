{
 "cells": [
  {
   "cell_type": "code",
   "execution_count": 1,
   "id": "1d9a3a09-a7ee-4b62-a34e-2e3c86dfe027",
   "metadata": {},
   "outputs": [
    {
     "data": {
      "text/plain": [
       "\"제목: 와.. 개웃겨ㅋㅋ 시청률 12.7% 전설의 드라마 '갯마을 차차차' 감독,작가가 이번엔 목욕탕 동기 코미디물로 돌아왔다..! ≪엄마친구아들≫\\n링크: https://www.youtube.com/watch?v=vYSTxYvhM78\\n설명: 정해인 #김시선 #정소민 #...\\n제목: [엄마친구아들] 내가 인생에서 처음으로 만난 또라이ㅣ하이라이트ㅣTVING\\n링크: https://www.youtube.com/watch?v=fNMrjl5fV_A\\n설명: 내가 인생에서 처음으로 만난 또라이 너를 좋아하지 않은 적이 없었어   파란만장 동네 한 바퀴 로맨스 [...\\n제목: 와..시청률 6% 난리난 ‘갯마을차차차’ 감독+작가의 신작 떴다! 스펙, 끕, 비교에 미친 현 한국인들에게 경종을 울릴 tvN이 비장의 한 수로 공개한 대존잼드라마 [엄마친구아들]\\n링크: https://www.youtube.com/watch?v=2khkEe0uJRQ\\n설명: tvN토일 밤 9시20분에 방영하는 [...\\n제목: [1-2화 메이킹] 이런 게 남사친&여사친이라면 저는 친구가 없습니다.. 혜릉 찐친들의 현장 비하인드🍭 #엄마친구아들 EP.2\\n링크: https://www.youtube.com/watch?v=VBlEnyAZky0\\n설명: 오류 난 인생을 재부팅 하려는 여자와 그의 살아있는 흑역사인 '...\\n제목: If this is friendship, I don't have any friends...\\n링크: https://www.youtube.com/watch?v=69qOnBD9O-8\\n설명: How is it? How is it? How are Hae In X So Min X Ji Eun?😆\\nI should have given birth to these cuties.....\""
      ]
     },
     "execution_count": 1,
     "metadata": {},
     "output_type": "execute_result"
    }
   ],
   "source": [
    "from youtubesearchpython import VideosSearch\n",
    "def youtube_search(query: str) -> str:\n",
    "    \"\"\"Searches YouTube for recent results. Input should be a search query string.\"\"\"\n",
    "    videos_search = VideosSearch(query, limit=5)\n",
    "    results = videos_search.result()\n",
    "    return \"\\n\".join([f\"제목: {video['title']}\\n링크: {video['link']}\\n설명: {video.get('descriptionSnippet', [''])[0]['text'][:100]}...\" for video in results['result']])\n",
    "\n",
    "youtube_search(\"엄마친구아들\")"
   ]
  },
  {
   "cell_type": "code",
   "execution_count": 2,
   "id": "87f5e69f-6dbc-4608-b107-2846b0cb1be4",
   "metadata": {},
   "outputs": [
    {
     "name": "stdout",
     "output_type": "stream",
     "text": [
      "제목: 와.. 개웃겨ㅋㅋ 시청률 12.7% 전설의 드라마 '갯마을 차차차' 감독,작가가 이번엔 목욕탕 동기 코미디물로 돌아왔다..! ≪엄마친구아들≫\n",
      "링크: https://www.youtube.com/watch?v=vYSTxYvhM78\n",
      "자막: 야 나 대형사 붙였어 미국에서 돌아온 친구의 고백 막상 오니까 엄두가 안 나 뭔데 무슨 일인데 그 엄마가 알면 진짜 죽임 당할지도 모릅니다 아니 사이즈를 알아야 방법을 찾을 거 아니야 수습을 할지 도망을 칠지 아 그니까 내가 엄마 친가드 승유에게 전한 비밀 아니 뭐라 하는지 안 들려 아이씨 나 파원 했다고 때 등장한 저승사자 방금 뭐라 그랬어 이것은 지옥에서 들리는 소리가 아닙니다 그어 다시 말해 봐 엄마 내가 잘못 드는 거지 비교 왕국 대한민국에서 유일한 자랑거리였던 딸이 파원 엄마 잘 있었어 아 우리 엄마 여전히 예쁘네 엄마 아 아 내가 지금 약간 시체 때문에 경황이 없어 그 내가 한국에 왜 왜 왔냐면 응 원했어 나 이제 결혼 안 해 표정으로 욕하는 엄마 아빠 성 아빠 잠시 비켜봐 아빠는 호흡곤란 야 이미친 엄마는 대파 참교육 야야 너 비켜 너 비켜 너 비켜 결론부터 말해서 재밌는 로맨스물 하나 나왔습니다 꼭 끝까지 보세요 앤 드라마 엄마 친구 아들 지금 바로 시작합니다 미국에서...\n",
      "\n",
      "제목: [1화 요약] 아무것도 모르던 어린 시절에도, 지금도 몸 던져 나를 지켜주는 '남자 사람 친구'❗ 함께 공유한 시간만큼 두터운 정해인X정소민 사이 #엄마친구아들\n",
      "링크: https://www.youtube.com/watch?v=B_UbUb3aLoo\n",
      "자막: 저기 뭐아 나랑 하나만 약속해 줘 오늘 무슨 일이 있어도 끝까지 나랑 같이 있어 줄래 뭔 말이야 백두산님 막 폭발하고 한강물이 범람에도 지구가 멸망 가고 설사 공룡이 부활해도 아 뭐래 잠깐만 아니 그러니까 내 말 여보세요네 반장님네 재경이가 지금요 아네 알겠습니다 지금 바로 갈게요네가 어딜가 야나 다시 들어가 봐야 될 것 같아 응급 상황 나는 나는 재산인데 나는 나중에 네가 되게 필요해 질 예정이야 그러면은 그때 1리에 전화를 하세요 나가 야 야나 진짜 각 안 돼 너 오늘은 무조건 밀어야 돼 봐봐 목 해가지까 새끼야 사람 새끼야 엄마 새끼야 뭐 알고 이러는 건 나 무어 절 갈 거야 근데 빨래 아 류 승세 [음악] [음악] 승 엄마들 참 자이네 목욕탕 오는 거 되 얘기 싫어했는데 없어졌다니 또 아쉽네 아니데 여기 뭐 하는데야 간판도 없고 대문도 없고 누구세요 [음악] [음악] 배성유 [음악] 스 뭐야 네가 여기 왜 있어 내가 할 말이거든 너야 말로 뭔데 알 거 없고 남의 땅에서 발이나...\n",
      "\n",
      "제목: [#엄마친구아들 1화] 학벌, 직업, 연애 뭐 하나 빠질 것 없던 정소민 ✨ 돌연 다 때려치우고 혜릉동으로 돌아온 이유? 💧\n",
      "링크: https://www.youtube.com/watch?v=_rjzbmJXUYM\n",
      "자막: 나 안 내신 구다 어어 아 저거 저거 누가 주인공 아니랄까 봐 타이밍 아냥 기가 막힌다 진짜 친공 안을 수 없는 얼굴이잖아네 최승효 건축가님의 수상 소감 들어보도록 하겠습니다 감사합니다 아이 선배는 수상 소금 좀 준비 하라니까 아니 말을 길게 해야 저 미모를 다각도 담지이 왜성 와 정모 얼굴 보니까 한국거 실감나네 야 너 대뜸 전화해서 갑자기 공항이라 내가 얼마 놀랐는 줄 알아 씻지도 못하고 왔잖아 그 정도야 얼굴에 막  묻히고 올만큼 언니가 보고 싶어어 이년 미국을 잘못 쳐 먹었냐 느끼하게 왜 이래 그지 나도 조금 부대낀다 생각은 했어 야 그래도 우리 몇 년 만인데 그만 튕기고 반가 좀 표 하시지 이리 안겨 알렌 [음악] 도둑이야 캐리 매운데 너무 매운데 왜 이렇게 맵지 어떻게냐 나 맵질 다 되나 봐 아니 먹어 먹어 괜찮냐 아 피가 흐려졌네요 안겠다 우리 성류 물에 씻어 줄게 뭐 하는 거야 아 자존심이지 이건 좀 너무하지 아니냐 괜찮아 어 안녕하세요 아 뭐줄까 떡볶이 이인 분해요 ...\n",
      "\n"
     ]
    }
   ],
   "source": [
    "from youtubesearchpython import VideosSearch\n",
    "from youtube_transcript_api import YouTubeTranscriptApi\n",
    "import re\n",
    "\n",
    "def get_video_id(url):\n",
    "    # URL에서 video ID를 추출\n",
    "    video_id = re.search(r\"v=([^&]+)\", url)\n",
    "    if video_id:\n",
    "        return video_id.group(1)\n",
    "    return None\n",
    "\n",
    "def get_transcript(video_id):\n",
    "    try:\n",
    "        transcript = YouTubeTranscriptApi.get_transcript(video_id, languages=['ko'])\n",
    "        return \" \".join([entry['text'] for entry in transcript])\n",
    "    except Exception as e:\n",
    "        print(f\"자막을 가져오는 데 실패했습니다: {str(e)}\")\n",
    "        return \"자막을 가져오는 데 실패했습니다.\"\n",
    "\n",
    "def youtube_search(query: str) -> str:\n",
    "    \"\"\"Searches YouTube for recent results and returns video titles, links, and transcripts.\"\"\"\n",
    "    videos_search = VideosSearch(query, limit=3)  # 결과 수를 3개로 제한\n",
    "    results = videos_search.result()\n",
    "    \n",
    "    output = []\n",
    "    for video in results['result']:\n",
    "        title = video['title']\n",
    "        link = video['link']\n",
    "        video_id = get_video_id(link)\n",
    "        if video_id:\n",
    "            transcript = get_transcript(video_id)\n",
    "            # 자막의 처음 500자만 사용\n",
    "            transcript_snippet = transcript[:500] + \"...\" if len(transcript) > 500 else transcript\n",
    "        else:\n",
    "            transcript_snippet = \"자막을 가져올 수 없습니다.\"\n",
    "        \n",
    "        output.append(f\"제목: {title}\\n링크: {link}\\n자막: {transcript_snippet}\\n\")\n",
    "    \n",
    "    return \"\\n\".join(output)\n",
    "\n",
    "# 사용 예:\n",
    "result = youtube_search(\"엄마친구아들 1화\")\n",
    "print(result)"
   ]
  },
  {
   "cell_type": "code",
   "execution_count": null,
   "id": "2ffb5635-fad4-44cc-996f-d362eeef98cb",
   "metadata": {},
   "outputs": [],
   "source": []
  }
 ],
 "metadata": {
  "kernelspec": {
   "display_name": "crewai",
   "language": "python",
   "name": "crewai"
  },
  "language_info": {
   "codemirror_mode": {
    "name": "ipython",
    "version": 3
   },
   "file_extension": ".py",
   "mimetype": "text/x-python",
   "name": "python",
   "nbconvert_exporter": "python",
   "pygments_lexer": "ipython3",
   "version": "3.10.14"
  }
 },
 "nbformat": 4,
 "nbformat_minor": 5
}
